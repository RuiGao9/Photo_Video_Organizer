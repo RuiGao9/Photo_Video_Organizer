import os
import shutil
from datetime import datetime

def organize_files_by_date(input_folder, output_folder):
    """
    Organize files in the input folder by creation date into year-month folders in the output folder,
    and separate them into 'Video' and 'Photo' subfolders.

    Args:
        input_folder (str): Path to the folder containing the images and videos.
        output_folder (str): Path to the folder where organized files will be stored.
    """
    # Define common video and photo extensions
    video_extensions = {'.mp4', '.avi', '.mov', '.mkv', '.flv'}
    photo_extensions = {'.jpg', '.jpeg', '.png', '.bmp', '.tiff', '.heic', '.gif', '.nef'}

    # Ensure the output folder exists
    os.makedirs(output_folder, exist_ok=True)

    # Loop through all files in the input folder
    for file_name in os.listdir(input_folder):
        file_path = os.path.join(input_folder, file_name)

        # Skip if it's not a file
        if not os.path.isfile(file_path):
            continue

        # Get the file's creation or modification time
        try:
            timestamp = os.path.getmtime(file_path)  # Use last modified time
            date_taken = datetime.fromtimestamp(timestamp)
        except Exception as e:
            print(f"Error reading time for {file_name}: {e}")
            continue

        # Format the date as YYYYMM
        folder_name = date_taken.strftime('%Y%m')
        target_folder = os.path.join(output_folder, folder_name)

        # Determine if the file is a photo or video
        file_extension = os.path.splitext(file_name)[1].lower()
        if file_extension in video_extensions:
            subfolder_name = f"{folder_name}_Video"
        elif file_extension in photo_extensions:
            subfolder_name = f"{folder_name}_Photo"
        else:
            print(f"Skipping unsupported file type: {file_name}")
            continue

        # Create the appropriate subfolder
        subfolder_path = os.path.join(target_folder, subfolder_name)
        os.makedirs(subfolder_path, exist_ok=True)

        # Move the file to the target subfolder
        try:
            shutil.move(file_path, subfolder_path)
            print(f"Moved {file_name} to {subfolder_path}")
        except Exception as e:
            print(f"Error moving {file_name} to {subfolder_path}: {e}")


# Define input and output folders
# The folder which contains all kinds of your pictures and videos
input_folder = r"C:/picture_videos/input_test"  # Replace with your input folder
# The folder where you want to save your orgainzed photos and videos
output_folder = r"C:/picture_videos/output_test"    # Replace with your desired output folder

# Run the organization script
organize_files_by_date(input_folder, output_folder)
